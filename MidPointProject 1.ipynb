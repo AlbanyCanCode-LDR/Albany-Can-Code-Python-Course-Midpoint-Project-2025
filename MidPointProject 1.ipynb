{
 "cells": [
  {
   "cell_type": "code",
   "execution_count": null,
   "id": "546e9fb0",
   "metadata": {},
   "outputs": [],
   "source": [
    "'''\n",
    "Project Description: Website Sign-Up\n",
    "In this project, you will write a program that prompts a user to sign up for a website. The user must come up with a username and password, then log in using the username and password.\n",
    "There are requirements for both the username and password. If either one doesn't meet the requirements, print an appropriate error message and ask the username for a new username and password.\n",
    "If they are both valid, store them as variables. Then ask the user to log in using the username and password they chose.\n",
    "'''\n",
    "\n",
    "# Problem: How should I start? \n",
    "# Solution: Your program should start with a string in the input functions that clearly explains to the user both the username and password requirements. \n",
    "username = input(\"Enter a valid username (starts with lowercase letter, only letters, numbers, and underscores): \")\n",
    "\n",
    "# Problem: The user must be continuously prompted for input.\n",
    "# Solution(s): What tools do we have in place to facilitate this? If-then-else statements in conjunction with a while loop. \n",
    "\n",
    "#---------------------------------------------------\n",
    "\n",
    "#Problem segment A\n",
    "\n",
    "# Problem: How are we managing error messages?\n",
    "# Solution(s): We can serve error messages from strings in variables. We can serve error messages from a collection instrument such as a list. Bad practice would be hardcoding error messages in our code. Though it works, it would be come difficult to handle and manage should a program be scaled up in the future or new error messages are added in the future with features. Handle this before you begin your while loop\n",
    "\n",
    "#---------------------------------------------------\n",
    "\n",
    "#Problem segment B\n",
    "\n",
    "# Problem: How are we testing the username requirements?\n",
    "# Solution(s): It must start with a lowercase letter and only contain letters, numbers, and underscores.\n",
    "\n",
    "\n",
    "#---------------------------------------------------\n",
    "\n",
    "# Problem: How are we testing password requirements?\n",
    "# Solution(s): At least 8 characters long\n",
    "#   Contains at least one uppercase letter\n",
    "#   Contains at least one lowercase letter\n",
    "#   Contains at least one digit\n",
    "#   Contains at least one of these characters: !, ?, @, #, $, ^, &, *, _, -\n",
    "#   Doesn’t contain any spaces\n",
    "\n",
    "# Problem: How are we handling login process after successful sign up?\n",
    "# Solution: With the assumption that after testing, the username and password fulfill requirements, we can reassign these values to more descriptive variables that are meant for the sign in and do a final test with a simple if else. Ternary operators are off the table as they cannot be used in a conditional expression."
   ]
  },
  {
   "cell_type": "code",
   "execution_count": null,
   "id": "3fc3d5d4",
   "metadata": {},
   "outputs": [
    {
     "ename": "IndexError",
     "evalue": "string index out of range",
     "output_type": "error",
     "traceback": [
      "\u001b[31m---------------------------------------------------------------------------\u001b[39m",
      "\u001b[31mIndexError\u001b[39m                                Traceback (most recent call last)",
      "\u001b[36mCell\u001b[39m\u001b[36m \u001b[39m\u001b[32mIn[1]\u001b[39m\u001b[32m, line 13\u001b[39m\n\u001b[32m     10\u001b[39m username = \u001b[38;5;28minput\u001b[39m(\u001b[33m\"\u001b[39m\u001b[33mEnter a valid username (starts with lowercase letter, only letters, numbers, and underscores): \u001b[39m\u001b[33m\"\u001b[39m)\n\u001b[32m     12\u001b[39m \u001b[38;5;66;03m# If the first character is uppercase, it's not a valid username\u001b[39;00m\n\u001b[32m---> \u001b[39m\u001b[32m13\u001b[39m \u001b[38;5;28;01mif\u001b[39;00m \u001b[38;5;129;01mnot\u001b[39;00m \u001b[43musername\u001b[49m\u001b[43m[\u001b[49m\u001b[32;43m0\u001b[39;49m\u001b[43m]\u001b[49m.islower():\n\u001b[32m     14\u001b[39m   \u001b[38;5;28mprint\u001b[39m\n\u001b[32m     15\u001b[39m \u001b[38;5;66;03m# If the username is part of the list of taken usernames, it's not a valid username\u001b[39;00m\n\u001b[32m     16\u001b[39m \u001b[38;5;66;03m# If the characters in the given username aren't only letters, numbers, and underscores, it's not a valid username\u001b[39;00m\n\u001b[32m     17\u001b[39m \u001b[38;5;66;03m# Once all the username checks pass, then prompt the user for the password\u001b[39;00m\n",
      "\u001b[31mIndexError\u001b[39m: string index out of range"
     ]
    }
   ],
   "source": [
    "# Defining the taken usernames that aren't valid\n",
    "taken_usernames = ['admin', 'admin123', 'user1', 'superuser']\n",
    "# Defining the list of special characters for password validation\n",
    "special_characters =  [\"!\", \"?\", \"@\", \"#\", \"$\", \"^\", \"&\", \"*\", \"_\", \"-\"]\n",
    "\n",
    "#---------------------------------------------------\n",
    "\n",
    "#Problem segment A\n",
    "# Problem: How are we managing error messages?\n",
    "#   We can serve error messages from strings in variables. We can serve error messages from a collection instrument such as a list.  Handle this before you begin your while loop\n",
    "\n",
    "\n",
    "# Solution(s): It must start with a lowercase letter and only contain letters, numbers, and underscores.\n",
    "# Different error message list\n",
    "error_messages_username = [\"Username didn't start with a lowercase\",\"username must contain only letters, numbers, and underscores\", \"Username already Taken\"]\n",
    "\n",
    "error_messages_password = [\"Password must be at least 8 characters long\",\"Password must contain at least one uppercase letter\",\"Password must contain at least one lowercase letter\",\"Password must contain at least one digit\",\"Password must contain at least one of these characters: !, ?, @, #, $, ^, &, *, _, -\",\"Password must not contain any spaces\"]\n",
    "\n",
    "#---------------------------------------------------\n",
    "\n",
    "# Main while loop that won't stop until we hit a break condition\n",
    "while True:\n",
    "  # Prompts the user for the username, also detailing what valid usernames are\n",
    "  username = input(\"Enter a valid username (starts with lowercase letter, only letters, numbers, and underscores): \")\n",
    "  \n",
    "  # If the first character is uppercase, it's not a valid username\n",
    "  if not username[0].islower():\n",
    "    print\n",
    "  # If the username is part of the list of taken usernames, it's not a valid username\n",
    "  # If the characters in the given username aren't only letters, numbers, and underscores, it's not a valid username\n",
    "  # Once all the username checks pass, then prompt the user for the password"
   ]
  }
 ],
 "metadata": {
  "kernelspec": {
   "display_name": "Python 3",
   "language": "python",
   "name": "python3"
  },
  "language_info": {
   "codemirror_mode": {
    "name": "ipython",
    "version": 3
   },
   "file_extension": ".py",
   "mimetype": "text/x-python",
   "name": "python",
   "nbconvert_exporter": "python",
   "pygments_lexer": "ipython3",
   "version": "3.13.2"
  }
 },
 "nbformat": 4,
 "nbformat_minor": 5
}
